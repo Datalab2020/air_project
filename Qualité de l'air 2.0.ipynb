{
  "nbformat": 4,
  "nbformat_minor": 0,
  "metadata": {
    "colab": {
      "name": "Experimento calidad del aire.ipynb",
      "provenance": [],
      "authorship_tag": "ABX9TyN+uMsjOSrUFlLOpGxjJ4XG",
      "include_colab_link": true
    },
    "kernelspec": {
      "name": "python3",
      "display_name": "Python 3"
    }
  },
  "cells": [
    {
      "cell_type": "markdown",
      "metadata": {
        "id": "view-in-github",
        "colab_type": "text"
      },
      "source": [
        "<a href=\"https://colab.research.google.com/github/Datalab2020/air_project/blob/devel_Cesar/Qualit%C3%A9%20de%20l'air%202.0.ipynb\" target=\"_parent\"><img src=\"https://colab.research.google.com/assets/colab-badge.svg\" alt=\"Open In Colab\"/></a>"
      ]
    },
    {
      "cell_type": "code",
      "metadata": {
        "id": "yzxR1mwFxFA6",
        "outputId": "83c6948c-f06e-4704-b94c-023d9c38952e",
        "colab": {
          "base_uri": "https://localhost:8080/",
          "height": 756
        }
      },
      "source": [
        "import pandas as pd\n",
        "import folium\n",
        "from branca.element import Template, MacroElement\n",
        "\n",
        "\n",
        "\n",
        "url = \"https://opendata.arcgis.com/datasets/6f64bbd4f94c425791c2ec7eee33bb71_0.csv\"\n",
        "df = pd.read_csv(url)\n",
        "\n",
        "df[\"jour\"] = pd.DatetimeIndex(df[\"date_ech\"]).day\n",
        "df[\"mois\"] = pd.DatetimeIndex(df[\"date_ech\"]).month\n",
        "df[\"an\"] = pd.DatetimeIndex(df[\"date_ech\"]).year\n",
        "\n",
        "group_valeur = df.groupby('lib_zone')['X','Y','valeur'].mean().reset_index()\n",
        "#group_valeur.plot(figsize=(20,9), kind='barh', xticks=np.arange(0, 5, 0.15))\n",
        "#plt.ylabel('Villes')\n",
        "#plt.xlabel('Valeurs')\n",
        "\n",
        "group_valeur['color'] = pd.cut(group_valeur['valeur'], bins=[0, 3.81, 3.90, 4, 5], labels=[\"lightgreen\", \"green\", \"orange\", \"red\"])\n",
        "\n",
        "fig = folium.Figure(width=800, height=700)\n",
        "\n",
        "map = folium.Map(location = [47.867990, 1.974466], zoom_start = 8.495).add_to(fig)\n",
        "\n",
        "# Fill the map with your own dataframe\n",
        "for X, Y, lib_zone, valeur, color in zip(group_valeur['X'], group_valeur['Y'],  group_valeur['lib_zone'], group_valeur['valeur'], group_valeur['color']):\n",
        "  folium.Marker(location=[Y, X],\n",
        "                popup=lib_zone,\n",
        "                tooltip=str(\"Name : \" + str(lib_zone)+ \"<br>Valeur : \"+ str(valeur)),\n",
        "                icon=folium.Icon(color=color)\n",
        "                ).add_to(map)\n",
        "                \n",
        "template = \"\"\"\n",
        "{% macro html(this, kwargs) %}\n",
        "\n",
        "<!doctype html>\n",
        "<html lang=\"en\">\n",
        "<head>\n",
        "  <meta charset=\"utf-8\">\n",
        "  <meta name=\"viewport\" content=\"width=device-width, initial-scale=1\">\n",
        "  <title>jQuery UI Draggable - Default functionality</title>\n",
        "  <link rel=\"stylesheet\" href=\"//code.jquery.com/ui/1.12.1/themes/base/jquery-ui.css\">\n",
        "\n",
        "  <script src=\"https://code.jquery.com/jquery-1.12.4.js\"></script>\n",
        "  <script src=\"https://code.jquery.com/ui/1.12.1/jquery-ui.js\"></script>\n",
        "  \n",
        "  <script>\n",
        "  $( function() {\n",
        "    $( \"#maplegend\" ).draggable({\n",
        "                    start: function (event, ui) {\n",
        "                        $(this).css({\n",
        "                            right: \"auto\",\n",
        "                            top: \"auto\",\n",
        "                            bottom: \"auto\"\n",
        "                        });\n",
        "                    }\n",
        "                });\n",
        "});\n",
        "\n",
        "  </script>\n",
        "</head>\n",
        "<body>\n",
        "\n",
        " \n",
        "<div id='maplegend' class='maplegend' \n",
        "    style='position: absolute; z-index:9999; border:2px solid grey; background-color:rgba(255, 255, 255, 0.8);\n",
        "     border-radius:6px; padding: 10px; font-size:14px; right: 20px; bottom: 20px;'>\n",
        "     \n",
        "<div class='legend-title'>Qualite de l'air</div>\n",
        "<div class='legend-scale'>\n",
        "  <ul class='legend-labels'>\n",
        "    <li><span style='background:red;opacity:0.7;'></span>Mauvais</li>\n",
        "    <li><span style='background:orange;opacity:0.7;'></span>Moyenne</li>\n",
        "    <li><span style='background:green;opacity:0.7;'></span>Acceptable</li>\n",
        "    <li><span style='background:lightgreen;opacity:0.7;'></span>Mieux</li>\n",
        "  </ul>\n",
        "</div>\n",
        "</div>\n",
        " \n",
        "</body>\n",
        "</html>\n",
        "\n",
        "<style type='text/css'>\n",
        "  .maplegend .legend-title {\n",
        "    text-align: left;\n",
        "    margin-bottom: 5px;\n",
        "    font-weight: bold;\n",
        "    font-size: 90%;\n",
        "    }\n",
        "  .maplegend .legend-scale ul {\n",
        "    margin: 0;\n",
        "    margin-bottom: 5px;\n",
        "    padding: 0;\n",
        "    float: left;\n",
        "    list-style: none;\n",
        "    }\n",
        "  .maplegend .legend-scale ul li {\n",
        "    font-size: 80%;\n",
        "    list-style: none;\n",
        "    margin-left: 0;\n",
        "    line-height: 18px;\n",
        "    margin-bottom: 2px;\n",
        "    }\n",
        "  .maplegend ul.legend-labels li span {\n",
        "    display: block;\n",
        "    float: left;\n",
        "    height: 16px;\n",
        "    width: 30px;\n",
        "    margin-right: 5px;\n",
        "    margin-left: 0;\n",
        "    border: 1px solid #999;\n",
        "    }\n",
        "  .maplegend .legend-source {\n",
        "    font-size: 80%;\n",
        "    color: #777;\n",
        "    clear: both;\n",
        "    }\n",
        "  .maplegend a {\n",
        "    color: #777;\n",
        "    }\n",
        "</style>\n",
        "{% endmacro %}\"\"\"\n",
        "\n",
        "macro = MacroElement()\n",
        "macro._template = Template(template)\n",
        "\n",
        "map.get_root().add_child(macro)\n",
        "\n",
        "map\n"
      ],
      "execution_count": 33,
      "outputs": [
        {
          "output_type": "stream",
          "text": [
            "/usr/local/lib/python3.6/dist-packages/ipykernel_launcher.py:14: FutureWarning: Indexing with multiple keys (implicitly converted to a tuple of keys) will be deprecated, use a list instead.\n",
            "  \n"
          ],
          "name": "stderr"
        },
        {
          "output_type": "execute_result",
          "data": {
            "text/html": [
              "<iframe src=\"about:blank\" width=\"800\" height=\"700\"style=\"border:none !important;\" data-html=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 onload=\"this.contentDocument.open();this.contentDocument.write(atob(this.getAttribute('data-html')));this.contentDocument.close();\" \"allowfullscreen\" \"webkitallowfullscreen\" \"mozallowfullscreen\"></iframe>"
            ],
            "text/plain": [
              "<folium.folium.Map at 0x7f12c8d0e0b8>"
            ]
          },
          "metadata": {
            "tags": []
          },
          "execution_count": 33
        }
      ]
    },
    {
      "cell_type": "markdown",
      "metadata": {
        "id": "3cQqi6VsgNoM"
      },
      "source": [
        "##Conclusion"
      ]
    },
    {
      "cell_type": "markdown",
      "metadata": {
        "id": "yKqom13RgPIv"
      },
      "source": [
        "Après avoir étudié le comportement de chaque polluant sur chacune des villes, nous avons constaté que notre analyse coïncide presque totalement avec la moyenne de la colonne valeur de  Lig'Air pour chacune des villes. D'ici on peut déduire que la ville qui a le moins de polluants et donc la meilleure qualité de l'air, selon la moyenne des mesures de 2018 à aujourd'hui ( 18/10/2020 ) est Bourges"
      ]
    }
  ]
}