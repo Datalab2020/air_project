{
 "cells": [
  {
   "cell_type": "code",
   "execution_count": 2,
   "metadata": {},
   "outputs": [],
   "source": [
    "import pandas as pd\n",
    "import folium\n",
    "import matplotlib.pyplot as plt"
   ]
  },
  {
   "cell_type": "code",
   "execution_count": 3,
   "metadata": {},
   "outputs": [],
   "source": [
    "url = \"https://opendata.arcgis.com/datasets/6f64bbd4f94c425791c2ec7eee33bb71_0.csv\"\n",
    "df = pd.read_csv(url)\n",
    "\n",
    "df[\"jour\"] = pd.DatetimeIndex(df[\"date_ech\"]).day\n",
    "df[\"mois\"] = pd.DatetimeIndex(df[\"date_ech\"]).month\n",
    "df[\"an\"] = pd.DatetimeIndex(df[\"date_ech\"]).year"
   ]
  },
  {
   "cell_type": "code",
   "execution_count": 4,
   "metadata": {},
   "outputs": [
    {
     "name": "stderr",
     "output_type": "stream",
     "text": [
      "<ipython-input-4-887e5ffe1053>:18: UserWarning: color argument of Icon should be one of: {'white', 'darkblue', 'pink', 'gray', 'beige', 'orange', 'red', 'purple', 'darkred', 'lightred', 'blue', 'lightblue', 'darkpurple', 'lightgreen', 'green', 'cadetblue', 'black', 'darkgreen', 'lightgray'}.\n",
      "  folium.Marker(location = [46.8104, 1.69605], popup = \"notation\", tooltip = \"CHATEAUROUX\", icon = folium.Icon(color = 'darkorange')).add_to(map)\n"
     ]
    }
   ],
   "source": [
    "fig = folium.Figure(width=800, height=500)\n",
    "map = folium.Map([47.867990, 1.974466], zoom_start = 8.495).add_to(fig)\n",
    "\n",
    "folium.Marker(location = [48.7488, 1.35995], popup = \"notation\", tooltip = \"DREUX\", icon = folium.Icon(color = 'lightred')).add_to(map)\n",
    "\n",
    "folium.Marker(location = [48.4455, 1.4906], popup = \"notation\", tooltip = \"CHARTRES\", icon = folium.Icon(color = 'darkgreen')).add_to(map)\n",
    "\n",
    "folium.Marker(location = [47.9032, 1.90398], popup = \"notation\", tooltip = \"ORLEANS\", icon = folium.Icon(color = 'darkred')).add_to(map)\n",
    "\n",
    "folium.Marker(location = [47.998, 2.73669], popup = \"notation\", tooltip = \"MONTARGIS\", icon = folium.Icon(color = \"blue\")).add_to(map)\n",
    "\n",
    "folium.Marker(location = [47.5903, 1.32267], popup = \"notation\", tooltip = \"BLOIS\", icon = folium.Icon(color = 'lightblue')).add_to(map)\n",
    "\n",
    "folium.Marker(location = [47.3944, 0.68286], popup = \"notation\", tooltip = \"TOURS\", icon = folium.Icon(color = 'green')).add_to(map)\n",
    "\n",
    "folium.Marker(location = [47.0797, 2.39623], popup = \"notation\", tooltip = \"BOURGES\", icon = folium.Icon(color = 'orange')).add_to(map)\n",
    "\n",
    "folium.Marker(location = [46.8104, 1.69605], popup = \"notation\", tooltip = \"CHATEAUROUX\", icon = folium.Icon(color = 'darkorange')).add_to(map)\n",
    "\n",
    "map.save('carte_centre.html')"
   ]
  },
  {
   "cell_type": "code",
   "execution_count": null,
   "metadata": {},
   "outputs": [],
   "source": []
  }
 ],
 "metadata": {
  "kernelspec": {
   "display_name": "Python 3",
   "language": "python",
   "name": "python3"
  },
  "language_info": {
   "codemirror_mode": {
    "name": "ipython",
    "version": 3
   },
   "file_extension": ".py",
   "mimetype": "text/x-python",
   "name": "python",
   "nbconvert_exporter": "python",
   "pygments_lexer": "ipython3",
   "version": "3.8.3"
  }
 },
 "nbformat": 4,
 "nbformat_minor": 4
}
