# -*- coding: utf-8 -*-
"""
Created on Wed Oct 14 17:59:23 2020

@author: frand
"""

import pandas as pd
import matplotlib.pyplot as plt

url = "https://opendata.arcgis.com/datasets/6f64bbd4f94c425791c2ec7eee33bb71_0.csv"
df = pd.read_csv(url)

def compte(ville):
    return df.loc[(df["lib_zone"] == ville)].groupby(["valeur", "qualif"]).size()
#
comBLO = compte("BLOIS")
comBLO.plot(kind='bar', title = "Fréquence des valeurs max de polluants") #, legend='Reverse'
plt.ylabel('Fréquence')
plt.savefig("Fréquences_BLOIS.png")

comBOU = compte("BOURGES")
comBOU.plot(kind='bar', title = "Fréquence des valeurs max de polluants") #, legend='Reverse'
plt.ylabel('Fréquence')

comORL = compte("ORLEANS")
comORL.plot(kind='bar', title = "Fréquence des valeurs max de polluants") #, legend='Reverse'
plt.ylabel('Fréquence')