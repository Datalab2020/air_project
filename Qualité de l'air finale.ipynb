{
  "nbformat": 4,
  "nbformat_minor": 0,
  "metadata": {
    "colab": {
      "name": "Experimento calidad del aire.ipynb",
      "provenance": [],
      "authorship_tag": "ABX9TyMhm1X6HcbhfLRRdJzTlYOG",
      "include_colab_link": true
    },
    "kernelspec": {
      "name": "python3",
      "display_name": "Python 3"
    }
  },
  "cells": [
    {
      "cell_type": "markdown",
      "metadata": {
        "id": "view-in-github",
        "colab_type": "text"
      },
      "source": [
        "<a href=\"https://colab.research.google.com/github/Datalab2020/air_project/blob/devel_Cesar/Qualit%C3%A9%20de%20l'air%20finale.ipynb\" target=\"_parent\"><img src=\"https://colab.research.google.com/assets/colab-badge.svg\" alt=\"Open In Colab\"/></a>"
      ]
    },
    {
      "cell_type": "code",
      "metadata": {
        "id": "yzxR1mwFxFA6",
        "outputId": "23dab9fa-8530-40b2-f69b-27005faf9d90",
        "colab": {
          "base_uri": "https://localhost:8080/",
          "height": 756
        }
      },
      "source": [
        "import pandas as pd\n",
        "import folium\n",
        "from branca.element import Template, MacroElement\n",
        "\n",
        "\n",
        "\n",
        "url = \"https://opendata.arcgis.com/datasets/6f64bbd4f94c425791c2ec7eee33bb71_0.csv\"\n",
        "df = pd.read_csv(url)\n",
        "\n",
        "df[\"jour\"] = pd.DatetimeIndex(df[\"date_ech\"]).day\n",
        "df[\"mois\"] = pd.DatetimeIndex(df[\"date_ech\"]).month\n",
        "df[\"an\"] = pd.DatetimeIndex(df[\"date_ech\"]).year\n",
        "\n",
        "group_valeur = df.groupby('lib_zone')['X','Y','valeur'].mean().reset_index()\n",
        "#group_valeur.plot(figsize=(20,9), kind='barh', xticks=np.arange(0, 5, 0.15))\n",
        "#plt.ylabel('Villes')\n",
        "#plt.xlabel('Valeurs')\n",
        "\n",
        "group_valeur['color'] = pd.cut(group_valeur['valeur'], bins=[0, 3.81, 3.90, 4, 5], labels=[\"lightgreen\", \"green\", \"orange\", \"red\"])\n",
        "\n",
        "fig = folium.Figure(width=800, height=700)\n",
        "\n",
        "map = folium.Map(location = [47.867990, 1.974466], zoom_start = 8.495).add_to(fig)\n",
        "\n",
        "# Fill the map with your own dataframe\n",
        "for X, Y, lib_zone, valeur, color in zip(group_valeur['X'], group_valeur['Y'],  group_valeur['lib_zone'], group_valeur['valeur'], group_valeur['color']):\n",
        "  folium.Marker(location=[Y, X],\n",
        "                popup=lib_zone,\n",
        "                tooltip=str(\"Name : \" + str(lib_zone)+ \"<br>Valeur : \"+ str(valeur)),\n",
        "                icon=folium.Icon(color=color)\n",
        "                ).add_to(map)\n",
        "                \n",
        "template = \"\"\"\n",
        "{% macro html(this, kwargs) %}\n",
        "\n",
        "<!doctype html>\n",
        "<html lang=\"en\">\n",
        "<head>\n",
        "  <meta charset=\"utf-8\">\n",
        "  <meta name=\"viewport\" content=\"width=device-width, initial-scale=1\">\n",
        "  <title>jQuery UI Draggable - Default functionality</title>\n",
        "  <link rel=\"stylesheet\" href=\"//code.jquery.com/ui/1.12.1/themes/base/jquery-ui.css\">\n",
        "\n",
        "  <script src=\"https://code.jquery.com/jquery-1.12.4.js\"></script>\n",
        "  <script src=\"https://code.jquery.com/ui/1.12.1/jquery-ui.js\"></script>\n",
        "  \n",
        "  <script>\n",
        "  $( function() {\n",
        "    $( \"#maplegend\" ).draggable({\n",
        "                    start: function (event, ui) {\n",
        "                        $(this).css({\n",
        "                            right: \"auto\",\n",
        "                            top: \"auto\",\n",
        "                            bottom: \"auto\"\n",
        "                        });\n",
        "                    }\n",
        "                });\n",
        "});\n",
        "\n",
        "  </script>\n",
        "</head>\n",
        "<body>\n",
        "\n",
        " \n",
        "<div id='maplegend' class='maplegend' \n",
        "    style='position: absolute; z-index:9999; border:2px solid grey; background-color:rgba(255, 255, 255, 0.8);\n",
        "     border-radius:6px; padding: 10px; font-size:14px; right: 20px; bottom: 20px;'>\n",
        "     \n",
        "<div class='legend-title'>Qualite de l'air</div>\n",
        "<div class='legend-scale'>\n",
        "  <ul class='legend-labels'>\n",
        "    <li><span style='background:red;opacity:0.7;'></span>Mauvais</li>\n",
        "    <li><span style='background:orange;opacity:0.7;'></span>Moyenne</li>\n",
        "    <li><span style='background:green;opacity:0.7;'></span>Acceptable</li>\n",
        "    <li><span style='background:lightgreen;opacity:0.7;'></span>Mieux</li>\n",
        "  </ul>\n",
        "</div>\n",
        "</div>\n",
        " \n",
        "</body>\n",
        "</html>\n",
        "\n",
        "<style type='text/css'>\n",
        "  .maplegend .legend-title {\n",
        "    text-align: left;\n",
        "    margin-bottom: 5px;\n",
        "    font-weight: bold;\n",
        "    font-size: 90%;\n",
        "    }\n",
        "  .maplegend .legend-scale ul {\n",
        "    margin: 0;\n",
        "    margin-bottom: 5px;\n",
        "    padding: 0;\n",
        "    float: left;\n",
        "    list-style: none;\n",
        "    }\n",
        "  .maplegend .legend-scale ul li {\n",
        "    font-size: 80%;\n",
        "    list-style: none;\n",
        "    margin-left: 0;\n",
        "    line-height: 18px;\n",
        "    margin-bottom: 2px;\n",
        "    }\n",
        "  .maplegend ul.legend-labels li span {\n",
        "    display: block;\n",
        "    float: left;\n",
        "    height: 16px;\n",
        "    width: 30px;\n",
        "    margin-right: 5px;\n",
        "    margin-left: 0;\n",
        "    border: 1px solid #999;\n",
        "    }\n",
        "  .maplegend .legend-source {\n",
        "    font-size: 80%;\n",
        "    color: #777;\n",
        "    clear: both;\n",
        "    }\n",
        "  .maplegend a {\n",
        "    color: #777;\n",
        "    }\n",
        "</style>\n",
        "{% endmacro %}\"\"\"\n",
        "\n",
        "macro = MacroElement()\n",
        "macro._template = Template(template)\n",
        "\n",
        "map.get_root().add_child(macro)\n",
        "\n",
        "map\n"
      ],
      "execution_count": 32,
      "outputs": [
        {
          "output_type": "stream",
          "text": [
            "/usr/local/lib/python3.6/dist-packages/ipykernel_launcher.py:14: FutureWarning: Indexing with multiple keys (implicitly converted to a tuple of keys) will be deprecated, use a list instead.\n",
            "  \n"
          ],
          "name": "stderr"
        },
        {
          "output_type": "execute_result",
          "data": {
            "text/html": [
              "<iframe src=\"about:blank\" width=\"800\" height=\"700\"style=\"border:none !important;\" data-html=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 onload=\"this.contentDocument.open();this.contentDocument.write(atob(this.getAttribute('data-html')));this.contentDocument.close();\" \"allowfullscreen\" \"webkitallowfullscreen\" \"mozallowfullscreen\"></iframe>"
            ],
            "text/plain": [
              "<folium.folium.Map at 0x7f12c8d4e8d0>"
            ]
          },
          "metadata": {
            "tags": []
          },
          "execution_count": 32
        }
      ]
    }
  ]
}