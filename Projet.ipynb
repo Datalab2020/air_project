{
  "nbformat": 4,
  "nbformat_minor": 0,
  "metadata": {
    "colab": {
      "name": "Copie de Bienvenue dans Colaboratory",
      "provenance": [],
      "collapsed_sections": [],
      "toc_visible": true,
      "include_colab_link": true
    },
    "kernelspec": {
      "display_name": "Python 3",
      "name": "python3"
    }
  },
  "cells": [
    {
      "cell_type": "markdown",
      "metadata": {
        "id": "view-in-github",
        "colab_type": "text"
      },
      "source": [
        "<a href=\"https://colab.research.google.com/github/Datalab2020/air_project/blob/projet_francois/Projet.ipynb\" target=\"_parent\"><img src=\"https://colab.research.google.com/assets/colab-badge.svg\" alt=\"Open In Colab\"/></a>"
      ]
    },
    {
      "cell_type": "markdown",
      "metadata": {
        "id": "HCBa5NOIbBPN"
      },
      "source": [
        "\n",
        "# **Projet qualité de l'air en région Centre**"
      ]
    },
    {
      "cell_type": "markdown",
      "metadata": {
        "id": "Qxg-gSlvbOvo"
      },
      "source": [
        "L'OMS et l'union européennes ont émisent des normes pour la qualité de l'air extérieur. Ces normes fixent des seuils pour différents polluants dont ceux observés par Lig'Air. \n",
        "Ces polluants ont différents effets :\n",
        " - Le NO2 est un gaz irritant pour les bronches.\n",
        " - L'O3 est un gaz irritant pour les yeux et l'appareil respiratoire dans son entièreté.\n",
        " - Le SO2 est un gaz qui irrite les muceuses de la peau et les voix respiratoires supérieures.\n",
        " - le PM 2.5 et le PM 10 sont des particules fines, l'indice correspondant à leurs taille en microns. Ces particules pénétrent dans les voix respiratoires, les effets sur la santé sont encore mal connus mais les personnes les plus sensibles sont les enfants, les personnes âgées, les femmes enceintes et les personne souffrant de pathologies cardiovasculaire ou respiratoires."
      ]
    },
    {
      "cell_type": "markdown",
      "metadata": {
        "id": "VYcsTpXQbBj3"
      },
      "source": [
        "## Importation des librairies, DataFrame et premières moyennes globales"
      ]
    },
    {
      "cell_type": "code",
      "metadata": {
        "id": "wtvuTWKadya_"
      },
      "source": [
        "import pandas as pd\n",
        "import folium\n",
        "from pandas_profiling import ProfileReport\n",
        "import matplotlib.pyplot as plt\n",
        "import seaborn as sns; sns.set()\n",
        "import numpy as np\n",
        "\n",
        "def compte(ville):\n",
        "    return df.loc[(df[\"lib_zone\"] == ville)].groupby([\"valeur\", \"qualif\"]).size()"
      ],
      "execution_count": null,
      "outputs": []
    },
    {
      "cell_type": "code",
      "metadata": {
        "id": "Ngqw6eQzeTBR"
      },
      "source": [
        "url = \"https://opendata.arcgis.com/datasets/6f64bbd4f94c425791c2ec7eee33bb71_0.csv\"\n",
        "df = pd.read_csv(url)\n",
        "\n",
        "df[\"jour\"] = pd.DatetimeIndex(df[\"date_ech\"]).day\n",
        "df[\"mois\"] = pd.DatetimeIndex(df[\"date_ech\"]).month\n",
        "df[\"an\"] = pd.DatetimeIndex(df[\"date_ech\"]).year"
      ],
      "execution_count": null,
      "outputs": []
    },
    {
      "cell_type": "code",
      "metadata": {
        "id": "f1FyUMtLewPu"
      },
      "source": [
        "'''\n",
        "#Polluant Blois 2018\n",
        "#Janvier\n",
        "2018janBlois_no2=df.loc[:, [\"val_no2\", \"date_ech\", \"lib_zone\"]][df.lib_zone == \"BLOIS\"][df.date_ech >= \"2018/01/01 00:00:00+00\"][df.date_ech < \"2018/02/01 00:00:00+00\"].sort_values(by= [\"date_ech\"])\n",
        "2018janBlois_so2=df.loc[:, [\"val_so2\", \"date_ech\", \"lib_zone\"]][df.lib_zone == \"BLOIS\"][df.date_ech >= \"2018/01/01 00:00:00+00\"][df.date_ech < \"2018/02/01 00:00:00+00\"].sort_values(by= [\"date_ech\"])\n",
        "janBlois_o3=df.loc[:, [\"val_o3\", \"date_ech\", \"lib_zone\"]][df.lib_zone == \"BLOIS\"][df.date_ech >= \"2018/01/01 00:00:00+00\"][df.date_ech < \"2018/02/01 00:00:00+00\"].sort_values(by= [\"date_ech\"])\n",
        "janBloispm10=df.loc[:, [\"val_pm10\", \"date_ech\", \"lib_zone\"]][df.lib_zone == \"BLOIS\"][df.date_ech >= \"2018/01/01 00:00:00+00\"][df.date_ech < \"2018/02/01 00:00:00+00\"].sort_values(by= [\"date_ech\"])\n",
        "janBloispm25=df.loc[:, [\"val_pm25\", \"date_ech\", \"lib_zone\"]][df.lib_zone == \"BLOIS\"][df.date_ech >= \"2018/01/01 00:00:00+00\"][df.date_ech < \"2018/02/01 00:00:00+00\"].sort_values(by= [\"date_ech\"])\n",
        "'''\n",
        "\n",
        "dfGroup = df.groupby(['mois','an', 'lib_zone'])\n",
        "\n",
        "dfAgre = dfGroup.agg({\"val_no2\" : 'mean',\n",
        "                       \"val_so2\" : 'mean',\n",
        "                       \"val_o3\" : 'mean',\n",
        "                       \"val_pm25\" : 'mean',\n",
        "                       \"val_pm10\" : 'mean'})\n",
        "\n",
        "dfAgre_index = dfAgre.reset_index()\n",
        "\n",
        "print(dfAgre_index)"
      ],
      "execution_count": null,
      "outputs": []
    },
    {
      "cell_type": "code",
      "metadata": {
        "id": "L_k1KomQkF5L"
      },
      "source": [
        "for ville in dfAgre_index['lib_zone']:\n",
        "        globals()['Ville_%s' % ville] = dfAgre_index.loc[:, ][dfAgre_index.lib_zone == ville].sort_values(by=['an', 'mois']).reset_index()"
      ],
      "execution_count": null,
      "outputs": []
    },
    {
      "cell_type": "code",
      "metadata": {
        "id": "5zCaQ7x0g7w9"
      },
      "source": [
        "moyenneBL = df.loc[(df[\"lib_zone\"] == \"BLOIS\")].groupby([\"an\", \"mois\"]).mean()[[\"val_no2\", \"val_so2\", \"val_o3\", \"val_pm10\", \"val_pm25\"]]\n",
        "moyenneB = df.loc[(df[\"lib_zone\"] == \"BOURGES\")].groupby([\"an\", \"mois\"]).mean()[[\"val_no2\", \"val_so2\", \"val_o3\", \"val_pm10\", \"val_pm25\"]]\n",
        "moyenneC = df.loc[(df[\"lib_zone\"] == \"CHARTRES\")].groupby([\"an\", \"mois\"]).mean()[[\"val_no2\", \"val_so2\", \"val_o3\", \"val_pm10\", \"val_pm25\"]]\n",
        "moyenneCH = df.loc[(df[\"lib_zone\"] == \"CHATEAUROUX\")].groupby([\"an\", \"mois\"]).mean()[[\"val_no2\", \"val_so2\", \"val_o3\", \"val_pm10\", \"val_pm25\"]]\n",
        "moyenneD = df.loc[(df[\"lib_zone\"] == \"DREUX\")].groupby([\"an\", \"mois\"]).mean()[[\"val_no2\", \"val_so2\", \"val_o3\", \"val_pm10\", \"val_pm25\"]]\n",
        "moyenneM = df.loc[(df[\"lib_zone\"] == \"MONTARGIS\")].groupby([\"an\", \"mois\"]).mean()[[\"val_no2\", \"val_so2\", \"val_o3\", \"val_pm10\", \"val_pm25\"]]\n",
        "moyenneO = df.loc[(df[\"lib_zone\"] == \"ORLEANS\")].groupby([\"an\", \"mois\"]).mean()[[\"val_no2\", \"val_so2\", \"val_o3\", \"val_pm10\", \"val_pm25\"]]\n",
        "moyenneT = df.loc[(df[\"lib_zone\"] == \"TOURS\")].groupby([\"an\", \"mois\"]).mean()[[\"val_no2\", \"val_so2\", \"val_o3\", \"val_pm10\", \"val_pm25\"]]"
      ],
      "execution_count": null,
      "outputs": []
    },
    {
      "cell_type": "markdown",
      "metadata": {
        "id": "mcRw7aPDf5NM"
      },
      "source": [
        "## Graphiques par ville"
      ]
    },
    {
      "cell_type": "code",
      "metadata": {
        "id": "peNkCAoegBmk"
      },
      "source": [
        "graphT= moyenneT.plot(figsize=(15,9), title=\"MOYENNES DES POLLUANTS SUR 3 ANS POUR TOURS\", xticks=np.arange(0, 34, 3))\n",
        "fig = graphT.get_figure()\n",
        "axes = plt.gca()\n",
        "axes.set_xlabel(\"TEMPS EN ANNEE/MOIS\")\n",
        "fig.autofmt_xdate()\n",
        "axes.set_ylabel(\"VALEURS\")"
      ],
      "execution_count": null,
      "outputs": []
    },
    {
      "cell_type": "code",
      "metadata": {
        "id": "2E39Kw-ChrPs"
      },
      "source": [
        "comTOU = compte(\"TOURS\")\n",
        "comTOU.plot(kind='bar', figsize= (9,7), title = \"Fréquence des valeurs max de polluants\") #, legend='Reverse'\n",
        "plt.xlabel(\"Valeur\")\n",
        "plt.ylabel('Fréquence')"
      ],
      "execution_count": null,
      "outputs": []
    },
    {
      "cell_type": "code",
      "metadata": {
        "id": "QDxKWNoIoTMy"
      },
      "source": [
        "graphT= moyenneBL.plot(figsize=(15,9), title=\"MOYENNES DES POLLUANTS SUR 3 ANS POUR BLOIS\", xticks=np.arange(0, 34, 3))\n",
        "fig = graphT.get_figure()\n",
        "axes = plt.gca()\n",
        "axes.set_xlabel(\"TEMPS EN ANNEE/MOIS\")\n",
        "fig.autofmt_xdate()\n",
        "axes.set_ylabel(\"VALEURS\")"
      ],
      "execution_count": null,
      "outputs": []
    },
    {
      "cell_type": "code",
      "metadata": {
        "id": "gEv3z9JKozxV"
      },
      "source": [
        "comBLO = compte(\"BLOIS\")\n",
        "comBLO.plot(kind='bar', figsize= (9,7), title = \"Fréquence des valeurs max de polluants\") #, legend='Reverse'\n",
        "plt.xlabel(\"Valeur\")\n",
        "plt.ylabel('Fréquence')\n",
        "plt.savefig(\"Fréquences_BLOIS.png\")"
      ],
      "execution_count": null,
      "outputs": []
    },
    {
      "cell_type": "code",
      "metadata": {
        "id": "dy7px-2Zo_1l"
      },
      "source": [
        "graphT= moyenneB.plot(figsize=(15,9), title=\"MOYENNES DES POLLUANTS SUR 3 ANS POUR BOURGES\", xticks=np.arange(0, 34, 3))\n",
        "fig = graphT.get_figure()\n",
        "axes = plt.gca()\n",
        "axes.set_xlabel(\"TEMPS EN ANNEE/MOIS\")\n",
        "fig.autofmt_xdate()\n",
        "axes.set_ylabel(\"VALEURS\")"
      ],
      "execution_count": null,
      "outputs": []
    },
    {
      "cell_type": "code",
      "metadata": {
        "id": "SjbQQqxgpCEq"
      },
      "source": [
        "comBOU = compte(\"BOURGES\")\n",
        "comBOU.plot(kind='bar', figsize= (9,7), title = \"Fréquence des valeurs max de polluants\") #, legend='Reverse'\n",
        "plt.xlabel(\"Valeur\")\n",
        "plt.ylabel('Fréquence')"
      ],
      "execution_count": null,
      "outputs": []
    },
    {
      "cell_type": "code",
      "metadata": {
        "id": "0Tk1RiLRpfc9"
      },
      "source": [
        "graphT= moyenneC.plot(figsize=(15,9), title=\"MOYENNES DES POLLUANTS SUR 3 ANS POUR CHARTRES\", xticks=np.arange(0, 34, 3))\n",
        "fig = graphT.get_figure()\n",
        "axes = plt.gca()\n",
        "axes.set_xlabel(\"TEMPS EN ANNEE/MOIS\")\n",
        "fig.autofmt_xdate()\n",
        "axes.set_ylabel(\"VALEURS\")"
      ],
      "execution_count": null,
      "outputs": []
    },
    {
      "cell_type": "code",
      "metadata": {
        "id": "7iLVHPcWprDw"
      },
      "source": [
        "comCHAR = compte(\"CHARTRES\")\n",
        "comCHAR.plot(kind='bar', figsize= (9,7), title = \"Fréquence des valeurs max de polluants\") #, legend='Reverse'\n",
        "plt.xlabel(\"Valeur\")\n",
        "plt.ylabel('Fréquence')"
      ],
      "execution_count": null,
      "outputs": []
    },
    {
      "cell_type": "code",
      "metadata": {
        "id": "D9tD_CULpvJH"
      },
      "source": [
        "graphT= moyenneCH.plot(figsize=(15,9), title=\"MOYENNES DES POLLUANTS SUR 3 ANS POUR CHATEAUROUX\", xticks=np.arange(0, 34, 3))\n",
        "fig = graphT.get_figure()\n",
        "axes = plt.gca()\n",
        "axes.set_xlabel(\"TEMPS EN ANNEE/MOIS\")\n",
        "fig.autofmt_xdate()\n",
        "axes.set_ylabel(\"VALEURS\")"
      ],
      "execution_count": null,
      "outputs": []
    },
    {
      "cell_type": "code",
      "metadata": {
        "id": "doewkpoKp0AY"
      },
      "source": [
        "comCHAT = compte(\"CHATEAUROUX\")\n",
        "comCHAT.plot(kind='bar', figsize= (9,7), title = \"Fréquence des valeurs max de polluants\") #, legend='Reverse'\n",
        "plt.xlabel(\"Valeur\")\n",
        "plt.ylabel('Fréquence')"
      ],
      "execution_count": null,
      "outputs": []
    },
    {
      "cell_type": "code",
      "metadata": {
        "id": "g51clwDbp4WX"
      },
      "source": [
        "graphT= moyenneD.plot(figsize=(15,9), title=\"MOYENNES DES POLLUANTS SUR 3 ANS POUR DREUX\", xticks=np.arange(0, 34, 3))\n",
        "fig = graphT.get_figure()\n",
        "axes = plt.gca()\n",
        "axes.set_xlabel(\"TEMPS EN ANNEE/MOIS\")\n",
        "fig.autofmt_xdate()\n",
        "axes.set_ylabel(\"VALEURS\")"
      ],
      "execution_count": null,
      "outputs": []
    },
    {
      "cell_type": "code",
      "metadata": {
        "id": "levB9YY3qA7w"
      },
      "source": [
        "comDRE = compte(\"DREUX\")\n",
        "comDRE.plot(kind='bar', figsize= (9,7), title = \"Fréquence des valeurs max de polluants\") #, legend='Reverse'\n",
        "plt.xlabel(\"Valeur\")\n",
        "plt.ylabel('Fréquence')"
      ],
      "execution_count": null,
      "outputs": []
    },
    {
      "cell_type": "code",
      "metadata": {
        "id": "yHfvcZ9xqGo_"
      },
      "source": [
        "graphT= moyenneM.plot(figsize=(15,9), title=\"MOYENNES DES POLLUANTS SUR 3 ANS POUR MONTARGIS\", xticks=np.arange(0, 34, 3))\n",
        "fig = graphT.get_figure()\n",
        "axes = plt.gca()\n",
        "axes.set_xlabel(\"TEMPS EN ANNEE/MOIS\")\n",
        "fig.autofmt_xdate()\n",
        "axes.set_ylabel(\"VALEURS\")"
      ],
      "execution_count": null,
      "outputs": []
    },
    {
      "cell_type": "code",
      "metadata": {
        "id": "luBW56iIqPyN"
      },
      "source": [
        "comMON = compte(\"MONTARGIS\")\n",
        "comMON.plot(kind='bar', figsize= (9,7), title = \"Fréquence des valeurs max de polluants\") #, legend='Reverse'\n",
        "plt.xlabel(\"Valeur\")\n",
        "plt.ylabel('Fréquence')"
      ],
      "execution_count": null,
      "outputs": []
    },
    {
      "cell_type": "code",
      "metadata": {
        "id": "vrVmR9LBqXkN"
      },
      "source": [
        "graphT= moyenneO.plot(figsize=(15,9), title=\"MOYENNES DES POLLUANTS SUR 3 ANS POUR ORLEANS\", xticks=np.arange(0, 34, 3))\n",
        "fig = graphT.get_figure()\n",
        "axes = plt.gca()\n",
        "axes.set_xlabel(\"TEMPS EN ANNEE/MOIS\")\n",
        "fig.autofmt_xdate()\n",
        "axes.set_ylabel(\"VALEURS\")"
      ],
      "execution_count": null,
      "outputs": []
    },
    {
      "cell_type": "code",
      "metadata": {
        "id": "_QGoIlvvqfvN"
      },
      "source": [
        "comORL = compte(\"ORLEANS\")\n",
        "comORL.plot(kind='bar', figsize= (9,7), title = \"Fréquence des valeurs max de polluants\") #, legend='Reverse'\n",
        "plt.xlabel(\"Valeur\")\n",
        "plt.ylabel('Fréquence')"
      ],
      "execution_count": null,
      "outputs": []
    }
  ]
}